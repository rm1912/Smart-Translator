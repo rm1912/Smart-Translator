{
 "cells": [
  {
   "cell_type": "markdown",
   "id": "a090b583",
   "metadata": {},
   "source": [
    "# Importing necessary libraries and modules"
   ]
  },
  {
   "cell_type": "code",
   "execution_count": 1,
   "id": "f6b70987",
   "metadata": {},
   "outputs": [],
   "source": [
    "from tkinter import*\n",
    "from tkinter import ttk\n",
    "from PIL import ImageTk,Image\n",
    "from googletrans import Translator, LANGUAGES\n",
    "from langdetect import detect\n",
    "import speech_recognition as sr\n",
    "import googletrans\n",
    "import gtts\n",
    "import playsound\n",
    "import time\n",
    "from tkinter import messagebox"
   ]
  },
  {
   "cell_type": "markdown",
   "id": "4584cf47",
   "metadata": {},
   "source": [
    "# Function to handle the event when the input text entry is clicked"
   ]
  },
  {
   "cell_type": "code",
   "execution_count": 2,
   "id": "a78a98da",
   "metadata": {},
   "outputs": [],
   "source": [
    "def on_entry_click(event):\n",
    "    if input_text_entry.get() == \"Enter text\":\n",
    "        input_text_entry.delete(0, \"end\")\n",
    "        input_text_entry.configure(fg='black')"
   ]
  },
  {
   "cell_type": "markdown",
   "id": "82642a2e",
   "metadata": {},
   "source": [
    "# Function to handle the event when the input text entry loses focus"
   ]
  },
  {
   "cell_type": "code",
   "execution_count": 3,
   "id": "5d37fcc3",
   "metadata": {},
   "outputs": [],
   "source": [
    "def on_focus_out(event):\n",
    "    if input_text_entry.get() == \"\":\n",
    "        input_text_entry.insert(0, \"Enter text\")\n",
    "        input_text_entry.configure(fg='gray')"
   ]
  },
  {
   "cell_type": "markdown",
   "id": "0939919f",
   "metadata": {},
   "source": [
    "# Function to detect the language of the input text"
   ]
  },
  {
   "cell_type": "code",
   "execution_count": 4,
   "id": "cd47e22a",
   "metadata": {},
   "outputs": [],
   "source": [
    "def detect_language():\n",
    "    text = input_text_entry.get()\n",
    "    if text != \"Enter text\":\n",
    "        detected_lang = detect(text)\n",
    "        return detected_lang\n",
    "    return None"
   ]
  },
  {
   "cell_type": "markdown",
   "id": "f45f8972",
   "metadata": {},
   "source": [
    "# Function to perform translation"
   ]
  },
  {
   "cell_type": "code",
   "execution_count": 5,
   "id": "c6cf317c",
   "metadata": {},
   "outputs": [],
   "source": [
    "def translate():\n",
    "    text = input_text_entry.get()\n",
    "    src_language = src_lang.get()\n",
    "    dest_language = dest_lang.get()\n",
    "\n",
    "    if text != \"Enter text\" and src_language != 'choose language' and dest_language != 'choose language':\n",
    "        translator = Translator()\n",
    "        \n",
    "        # If the source language is set to 'Detect', try to detect the language automatically\n",
    "        if src_language == 'Detect':\n",
    "            detected_lang = detect_language()\n",
    "            src_language = detected_lang if detected_lang else 'choose language'\n",
    "        \n",
    "        # Translate the text\n",
    "        translated = translator.translate(text=text, src=src_language, dest=dest_language)\n",
    "        \n",
    "        # Update the output text area with the translated text\n",
    "        output_text.delete(\"1.0\", \"end\")\n",
    "        output_text.insert(\"1.0\", translated.text)\n",
    "        \n",
    "        # Show a message box indicating the translation is complete\n",
    "        messagebox.showinfo(\"Translation Complete\", \"Translation is done!\")"
   ]
  },
  {
   "cell_type": "markdown",
   "id": "b61f97ba",
   "metadata": {},
   "source": [
    "# Function to perform voice input and convert it to text"
   ]
  },
  {
   "cell_type": "code",
   "execution_count": 6,
   "id": "ebe21fcd",
   "metadata": {},
   "outputs": [],
   "source": [
    "def voice_input():\n",
    "    recognizer = sr.Recognizer()\n",
    "\n",
    "    with sr.Microphone() as source:\n",
    "        # Use the microphone as the audio source\n",
    "        audio = recognizer.listen(source)\n",
    "        try:\n",
    "            src_language = src_lang.get()\n",
    "            \n",
    "            # If the source language is set to a specific language, convert it to the corresponding language code\n",
    "            if src_language != 'choose language' and src_language != 'Detect':\n",
    "                language_codes = {v: k for k, v in LANGUAGES.items()}\n",
    "                src_language_code = language_codes.get(src_language, 'choose language')\n",
    "                \n",
    "                # Use the Google Speech Recognition API to recognize the speech and convert it to text\n",
    "                recognized_text = recognizer.recognize_google(audio, language=src_language_code)\n",
    "                input_text_entry.delete(0, \"end\")\n",
    "                input_text_entry.insert(0, recognized_text)\n",
    "            else:\n",
    "                recognized_text = recognizer.recognize_google(audio)\n",
    "                input_text_entry.delete(0, \"end\")\n",
    "                input_text_entry.insert(0, recognized_text)\n",
    "        except sr.UnknownValueError:\n",
    "            messagebox.showinfo(\"Error\",\"Speech recognition could not understand audio\")\n",
    "        except sr.RequestError as e:\n",
    "            messagebox.showinfo(\"Could not request results from the speech recognition service; {0}\".format(e))"
   ]
  },
  {
   "cell_type": "markdown",
   "id": "db05d19f",
   "metadata": {},
   "source": [
    "# Function to generate voice output of the translated text"
   ]
  },
  {
   "cell_type": "code",
   "execution_count": 7,
   "id": "ce9eb974",
   "metadata": {},
   "outputs": [],
   "source": [
    "def voice_output():\n",
    "    dest_language = dest_lang.get()\n",
    "    \n",
    "    # Function to generate voice output of the translated text\n",
    "    language_codes = {v: k for k, v in LANGUAGES.items()}\n",
    "    dest_language_code = language_codes.get(dest_language, 'choose language')\n",
    "    \n",
    "    # Get the translated text from the output text area\n",
    "    translated_text = output_text.get(\"1.0\", \"end\")\n",
    "    \n",
    "    # Generate a unique timestamp for the audio filename\n",
    "    timestamp = str(int(time.time()))  \n",
    "    \n",
    "    # Create the filename for the audio file\n",
    "    audio_filename = \"translated_audio_\" + timestamp + \".mp3\" \n",
    "    \n",
    "    # Use gtts library to convert the translated text to speech audio\n",
    "    converted_audio = gtts.gTTS(translated_text, lang=dest_language_code)\n",
    "    \n",
    "    # Save the audio file\n",
    "    converted_audio.save(audio_filename)\n",
    "    \n",
    "    # Play the audio file\n",
    "    playsound.playsound(audio_filename)"
   ]
  },
  {
   "cell_type": "markdown",
   "id": "8f5e0a58",
   "metadata": {},
   "source": [
    "# Creating the main root window"
   ]
  },
  {
   "cell_type": "code",
   "execution_count": 8,
   "id": "318da84b",
   "metadata": {},
   "outputs": [],
   "source": [
    "root = Tk()\n",
    "root.title('Translator App')\n",
    "root.geometry('1000x500')\n",
    "root.state('zoomed')\n",
    "root.resizable(0, 0)\n",
    "root.configure(bg='#736a86')\n",
    "\n",
    "frame = Frame(root, width=1245, height=650, bg='#edf1fe')\n",
    "frame.place(x=150, y=100)\n",
    "\n",
    "frame = Frame(root, width=575, height=650, bg='#b73275')\n",
    "frame.place(x=820, y=100)\n",
    "\n",
    "heading = Label(root, text='SMART  TRANSLATE', font=('forte', 30, 'bold'), bg='#edf1fe', fg='#464196')\n",
    "heading.place(x=270, y=250)\n",
    "\n",
    "side_image = Image.open('Image\\\\bg.png')\n",
    "side_image = side_image.resize((571, 471)) \n",
    "photo = ImageTk.PhotoImage(side_image)\n",
    "side_image_label = Label(root, image=photo, bg='#b73275')\n",
    "side_image_label.image = photo\n",
    "side_image_label.place(x=820, y=170)\n",
    "\n",
    "input_text_label = Label(root, text='From', bg='#edf1fe', fg='#739bd0', font=('Yu Gothic UI bold', 18, 'bold'))\n",
    "input_text_label.place(x=190, y=336)\n",
    "\n",
    "input_text_entry = Entry(root, highlightthickness=0, relief=\"flat\", width=30, bg='#dae4ee', fg='gray',\n",
    "                         font=('Yu Gothic UI Semibold', 13))\n",
    "input_text_entry.insert(0, \"Enter text\")\n",
    "input_text_entry.bind(\"<FocusIn>\", on_entry_click)\n",
    "input_text_entry.bind(\"<FocusOut>\", on_focus_out)\n",
    "input_text_entry.place(x=190, y=400)\n",
    "\n",
    "output_text_label = Label(root, text='To', bg='#edf1fe', fg='#739bd0', font=('Yu Gothic UI bold', 18, 'bold'))\n",
    "output_text_label.place(x=505, y=336)\n",
    "\n",
    "output_text = Text(root, highlightthickness=0, relief=\"flat\", width=30, height=5, bg='#dae4ee', fg='black',\n",
    "                   font=('Yu Gothic UI Semibold', 13), wrap='word')\n",
    "output_text.place(x=505, y=400)\n",
    "\n",
    "language1 = ['choose language', 'Detect'] + list(LANGUAGES.values())\n",
    "src_lang = ttk.Combobox(root, values=language1, width=22)\n",
    "src_lang.place(x=260, y=346)\n",
    "src_lang.set('choose language')\n",
    "\n",
    "language2 = ['choose language'] + list(LANGUAGES.values())\n",
    "dest_lang = ttk.Combobox(root, values=language2, width=22)\n",
    "dest_lang.place(x=550, y=346)\n",
    "dest_lang.set('choose language')\n",
    "\n",
    "trans_button = Image.open('Image\\\\trans.png')\n",
    "resized_trans_image = trans_button.resize((200, 100))\n",
    "photo = ImageTk.PhotoImage(resized_trans_image)\n",
    "trans_button_label = Button(root, image=photo, bg='#edf1fe', activebackground=\"#edf1fe\", cursor='hand2', bd=0, command=translate)\n",
    "trans_button_label.image=photo\n",
    "trans_button_label.place(x=358, y=527)\n",
    "\n",
    "voice_input_button = Image.open('Image\\\\mic.png') \n",
    "resized_voice_image = voice_input_button.resize((30, 30))\n",
    "photo = ImageTk.PhotoImage(resized_voice_image)\n",
    "voice_input_button_label = Button(root, image=photo, bg='#edf1fe', activebackground=\"#edf1fe\", cursor='hand2', bd=0, command=voice_input)\n",
    "voice_input_button_label.image=photo\n",
    "voice_input_button_label.place(x=420, y=340)\n",
    "\n",
    "voice_output_button = Image.open('Image\\\\on.png') \n",
    "resized_image = voice_output_button.resize((30, 30))\n",
    "photo = ImageTk.PhotoImage(resized_image)\n",
    "voice_output_button_label = Button(root, image=photo, bg='#edf1fe', activebackground=\"#edf1fe\", cursor='hand2', bd=0, command=voice_output)\n",
    "voice_output_button_label.image=photo\n",
    "voice_output_button_label.place(x=715, y=340)\n",
    "\n",
    "root.mainloop()\n"
   ]
  }
 ],
 "metadata": {
  "kernelspec": {
   "display_name": "Python 3 (ipykernel)",
   "language": "python",
   "name": "python3"
  },
  "language_info": {
   "codemirror_mode": {
    "name": "ipython",
    "version": 3
   },
   "file_extension": ".py",
   "mimetype": "text/x-python",
   "name": "python",
   "nbconvert_exporter": "python",
   "pygments_lexer": "ipython3",
   "version": "3.11.4"
  }
 },
 "nbformat": 4,
 "nbformat_minor": 5
}
